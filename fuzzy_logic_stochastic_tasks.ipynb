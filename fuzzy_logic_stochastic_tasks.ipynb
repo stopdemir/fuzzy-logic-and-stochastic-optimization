{
 "cells": [
  {
   "cell_type": "markdown",
   "metadata": {},
   "source": [
    "## Urban Operations Research for Transportation Systems\n",
    "### M.Sc. Transportation, Problem Set 2"
   ]
  },
  {
   "cell_type": "code",
   "execution_count": 1,
   "metadata": {},
   "outputs": [],
   "source": [
    "# general purpose python libraries\n",
    "import math\n",
    "import numpy as np\n",
    "import pandas as pd\n",
    "\n",
    "# visualization purposes\n",
    "import matplotlib.pyplot as plt\n",
    "\n",
    "# solving optimization problems\n",
    "import pyomo.environ as pyo\n",
    "import pyomo.opt as pyopt\n",
    "\n",
    "# fuzzy expert library to solve mandani fuzzy inference problems\n",
    "from fuzzy_expert.variable import FuzzyVariable\n",
    "from fuzzy_expert.rule import FuzzyRule\n",
    "from fuzzy_expert.inference import DecompositionalInference\n",
    "from fuzzy_expert.mf import MembershipFunction\n",
    "\n",
    "# may required for solving bwm problems\n",
    "from pyDecision.algorithm import bw_method\n",
    "# to work with simplex algorithm- linear programming problems\n",
    "from scipy.optimize import linprog\n",
    "\n",
    "\n",
    "pd.options.mode.chained_assignment = None  # default='warn'"
   ]
  },
  {
   "cell_type": "markdown",
   "metadata": {},
   "source": [
    "# Problem 1 "
   ]
  },
  {
   "cell_type": "markdown",
   "metadata": {},
   "source": [
    "## Fetch the Datasets"
   ]
  },
  {
   "cell_type": "markdown",
   "metadata": {},
   "source": [
    "fetching the rating data for all experts \n",
    "\n",
    "an excel file has been used for the data\n",
    "\n",
    "we are using read_excel() function to fetch the data\n",
    "\n",
    "we have 3 excel files to be fetched. "
   ]
  },
  {
   "cell_type": "code",
   "execution_count": 2,
   "metadata": {},
   "outputs": [],
   "source": [
    "address=\"Second Level Criteria.xlsx\"\n",
    "# we need to extract the ratings for all (5) experts\n",
    "ratings = []\n",
    "for i in range(0,5):\n",
    "    sheetName = \"Expert \"+ str(i+1)\n",
    "    df = pd.read_excel(address, sheet_name = sheetName, skiprows = 2, nrows= 6, header=None)\n",
    "    df.columns=[\"Criteria\",\"Best\",\"Worst\"]\n",
    "    ratings.append(df)\n",
    "    #print(ratings[i])\n",
    "\n",
    "address=\"Third Level C2.xlsx\"\n",
    "# we need to extract the ratings for all (5) experts\n",
    "ratings_C2 = []\n",
    "for i in range(0,5):\n",
    "    sheetName = \"Expert \"+ str(i+1)\n",
    "    df = pd.read_excel(address, sheet_name = sheetName, skiprows = 2, nrows= 6, header=None)\n",
    "    df.columns=[\"Criteria\",\"Best\",\"Worst\"]\n",
    "    ratings_C2.append(df)\n",
    "    #print(ratings[i])\n",
    "    \n",
    "address= \"Third Level C4.xlsx\"\n",
    "\n",
    "# we need to extract the ratings for all (5) experts\n",
    "ratings_C4 = []\n",
    "for i in range(0,5):\n",
    "    sheetName = \"Expert \"+ str(i+1)\n",
    "    df = pd.read_excel(address, sheet_name = sheetName, skiprows = 2, nrows= 6, header=None)\n",
    "    df.columns=[\"Criteria\",\"Best\",\"Worst\"]\n",
    "    ratings_C4.append(df)\n",
    "    #print(ratings[i])"
   ]
  },
  {
   "cell_type": "markdown",
   "metadata": {},
   "source": [
    "The symbols such as EI, WI, etc. are replaced by the values below"
   ]
  },
  {
   "cell_type": "markdown",
   "metadata": {},
   "source": [
    "## Model "
   ]
  },
  {
   "cell_type": "markdown",
   "metadata": {},
   "source": [
    "After having the numerical comparision values of the criteria, we need to find the proper weights\n",
    "by using the mathematical model and solver for the \"best worst method\"."
   ]
  },
  {
   "cell_type": "code",
   "execution_count": 3,
   "metadata": {},
   "outputs": [],
   "source": [
    "#=============================================================================\n",
    "# Model\n",
    "#=============================================================================\n",
    "def apply_model(dff):\n",
    "    df = dff.copy()\n",
    "    # the reason to have such a condition check is that\n",
    "    # there is no EI value in the second level ratings for Expert 4\n",
    "    if \"EI\" in df[\"Best\"].tolist():\n",
    "        Best = df[\"Criteria\"][df[df[\"Best\"] == \"EI\"].index.tolist()[0]]\n",
    "    else:\n",
    "        Best = df[\"Criteria\"][df[df[\"Best\"] == \"WI\"].index.tolist()[0]]  \n",
    "    Worst= df[\"Criteria\"][df[df[\"Worst\"] == \"EI\"].index.tolist()[0]]\n",
    "    df.columns=[\"Criteria\",Best,Worst]\n",
    "    Cnum=df.shape[0]\n",
    "    \n",
    "    df.set_index(df[\"Criteria\"],inplace=True)\n",
    "    # Fuzzification\n",
    "    Fuzzy={ \"EI\":[1, 1, 1],\n",
    "        \"WI\":[2/3, 1, 3/2],\n",
    "        \"FI\":[3/2, 2, 5/2],\n",
    "        \"VI\":[5/2, 3, 7/2],\n",
    "        \"AI\":[7/2, 4, 9/2]}\n",
    "    for i in [Best,Worst]:\n",
    "        for j in range(df.shape[0]):\n",
    "            df[i][j] = Fuzzy[df[i][j]]\n",
    "    \n",
    "    weight = dict()\n",
    "    \n",
    "    Model = pyo.ConcreteModel()\n",
    "\n",
    "    # Set\n",
    "    Model.Criteria=pyo.Set(initialize=df[\"Criteria\"])\n",
    "\n",
    "    # Set and variable\n",
    "    Model.L=pyo.Var(Model.Criteria, within=pyo.PositiveReals)\n",
    "    Model.M=pyo.Var(Model.Criteria, within=pyo.PositiveReals)\n",
    "    Model.U=pyo.Var(Model.Criteria, within=pyo.PositiveReals)\n",
    "    Model.ksi=pyo.Var(within=pyo.NonNegativeReals)\n",
    "\n",
    "    def obj1(model):\n",
    "        return Model.ksi\n",
    "    Model.obj1=pyo.Objective(expr=obj1 ,sense=pyo.minimize)\n",
    "    # Model.obj1.pprint()\n",
    "\n",
    "    L=[Model.L, Model.M, Model.U]\n",
    "    Lp=L.copy(); Lp.reverse()\n",
    "\n",
    "    def Co1(Model, i, j):\n",
    "        return (j[Best]-df[Best][i][L.index(j)]*Lp[L.index(j)][i]<= Model.ksi*Lp[L.index(j)][i])\n",
    "    Model.Co1 = pyo.Constraint(Model.Criteria, L, rule=Co1)\n",
    "    # Model.Co1.pprint()\n",
    "\n",
    "    def Co2(Model, i, j):\n",
    "        return (j[Best]-df[Best][i][L.index(j)]*Lp[L.index(j)][i]>= -Model.ksi*Lp[L.index(j)][i])\n",
    "    Model.Co2 = pyo.Constraint(Model.Criteria, L, rule=Co2)\n",
    "    # Model.Co2.pprint()\n",
    "\n",
    "    def Co3(Model, i, j):\n",
    "        return (j[i]-df[Worst][i][L.index(j)]*Lp[L.index(j)][Worst]<= Model.ksi*Lp[L.index(j)][Worst])\n",
    "    Model.Co3 = pyo.Constraint(Model.Criteria, L, rule=Co3)\n",
    "    # Model.Co3.pprint()\n",
    "\n",
    "    def Co4(Model, i,j):\n",
    "        return (j[i]-df[Worst][i][L.index(j)]*Lp[L.index(j)][Worst]>= -Model.ksi*Lp[L.index(j)][Worst])\n",
    "    Model.Co4 = pyo.Constraint(Model.Criteria, L, rule=Co4)\n",
    "    # Model.Co4.pprint()\n",
    "\n",
    "    def Co5(Model):\n",
    "        return (sum(j[i] if L.index(j)!=1 else 4*j[i] for i in Model.Criteria for j in L)/6==1)\n",
    "    Model.Co5 = pyo.Constraint(rule=Co5)\n",
    "    # Model.Co5.pprint()\n",
    "\n",
    "    def Co6(Model,i):\n",
    "        return (Model.L[i]<=Model.M[i])\n",
    "    Model.Co6 = pyo.Constraint(Model.Criteria,rule=Co6)\n",
    "    # Model.Co6.pprint()\n",
    "\n",
    "    def Co7(Model,i):\n",
    "        return (Model.M[i]<=Model.U[i])\n",
    "    Model.Co7 = pyo.Constraint(Model.Criteria,rule=Co7)\n",
    "    \n",
    "    return Model, L\n"
   ]
  },
  {
   "cell_type": "markdown",
   "metadata": {},
   "source": [
    "As I mentioned earlier we have three excel files to be fetched. One is for to find weight values for the second level criteria. The other two are for the third level criteria also known as sub-criteria. Below we calculate the weight values for these 3 criteria. "
   ]
  },
  {
   "cell_type": "markdown",
   "metadata": {},
   "source": [
    "## Calculating Weights and Consistency Ratios "
   ]
  },
  {
   "cell_type": "markdown",
   "metadata": {},
   "source": [
    "By using the fetched data and the model constructed for the BWM, we can finally end up with the weights for criteria and consistency ratio for the experts."
   ]
  },
  {
   "cell_type": "code",
   "execution_count": 4,
   "metadata": {},
   "outputs": [
    {
     "name": "stdout",
     "output_type": "stream",
     "text": [
      "Ipopt 3.14.12: \n",
      "\n",
      "******************************************************************************\n",
      "This program contains Ipopt, a library for large-scale nonlinear optimization.\n",
      " Ipopt is released as open source code under the Eclipse Public License (EPL).\n",
      "         For more information visit https://github.com/coin-or/Ipopt\n",
      "******************************************************************************\n",
      "\n",
      "This is Ipopt version 3.14.12, running with linear solver MUMPS 5.2.1.\n",
      "\n",
      "Number of nonzeros in equality constraint Jacobian...:       12\n",
      "Number of nonzeros in inequality constraint Jacobian.:      156\n",
      "Number of nonzeros in Lagrangian Hessian.............:       12\n",
      "\n",
      "Total number of variables............................:       13\n",
      "                     variables with only lower bounds:       13\n",
      "                variables with lower and upper bounds:        0\n",
      "                     variables with only upper bounds:        0\n",
      "Total number of equality constraints.................:        1\n",
      "Total number of inequality constraints...............:       56\n",
      "        inequality constraints with only lower bounds:        0\n",
      "   inequality constraints with lower and upper bounds:        0\n",
      "        inequality constraints with only upper bounds:       56\n",
      "\n",
      "iter    objective    inf_pr   inf_du lg(mu)  ||d||  lg(rg) alpha_du alpha_pr  ls\n",
      "   0  9.9999900e-03 9.60e-01 6.31e-01  -1.0 0.00e+00    -  0.00e+00 0.00e+00   0\n",
      "   1  2.0574020e-02 8.53e-01 2.60e+00  -1.7 3.34e-01    -  3.06e-02 1.11e-01f  1\n",
      "   2  4.3634430e-02 7.99e-01 2.44e+00  -1.7 3.61e-01    -  5.74e-02 6.38e-02h  1\n",
      "   3  1.5479012e+00 1.11e-16 6.93e+01  -1.7 1.50e+00    -  8.37e-02 1.00e+00f  1\n",
      "   4  1.3911008e+00 0.00e+00 6.62e+01  -1.7 2.79e+00    -  2.90e-02 5.62e-02h  1\n",
      "   5  1.3012869e+00 0.00e+00 6.21e+01  -1.7 1.29e+00    -  1.60e-01 6.99e-02h  1\n",
      "   6  1.1685303e+00 1.11e-16 5.34e+01  -1.7 8.70e-01    -  2.01e-01 1.53e-01h  1\n",
      "   7  8.6587141e-01 0.00e+00 3.19e+01  -1.7 6.69e-01    -  2.27e-01 4.53e-01h  1\n",
      "   8  7.4453416e-01 1.11e-16 1.97e+01  -1.7 3.01e-01    -  5.73e-01 4.04e-01h  1\n",
      "   9  7.2464839e-01 0.00e+00 5.05e+00  -1.7 1.56e-01    -  6.56e-01 1.00e+00f  1\n",
      "iter    objective    inf_pr   inf_du lg(mu)  ||d||  lg(rg) alpha_du alpha_pr  ls\n",
      "  10  9.1830976e-01 0.00e+00 9.33e-01  -1.7 1.94e-01    -  6.35e-01 1.00e+00f  1\n",
      "  11  1.1360685e+00 0.00e+00 1.11e-01  -1.7 2.18e-01    -  1.00e+00 1.00e+00h  1\n",
      "  12  5.3650326e-01 2.22e-16 3.11e-01  -2.5 1.26e+00    -  8.81e-01 4.74e-01f  1\n",
      "  13  3.9697840e-01 1.11e-16 4.02e-01  -2.5 2.69e-01    -  9.44e-01 5.19e-01h  1\n",
      "  14  2.9253038e-01 0.00e+00 4.76e-02  -2.5 1.04e-01    -  1.00e+00 1.00e+00h  1\n",
      "  15  2.9985256e-01 0.00e+00 3.31e-04  -2.5 1.01e-02    -  1.00e+00 1.00e+00h  1\n",
      "  16  2.6743585e-01 0.00e+00 2.07e-01  -3.8 6.01e-02    -  9.12e-01 5.39e-01f  1\n",
      "  17  2.6263940e-01 4.49e-06 1.30e-01  -3.8 6.38e-03    -  1.00e+00 7.52e-01h  1\n",
      "  18  2.6292933e-01 0.00e+00 1.64e-04  -3.8 4.06e-04    -  1.00e+00 1.00e+00f  1\n",
      "  19  2.6213005e-01 0.00e+00 3.55e-03  -5.7 8.42e-04    -  1.00e+00 9.49e-01h  1\n",
      "iter    objective    inf_pr   inf_du lg(mu)  ||d||  lg(rg) alpha_du alpha_pr  ls\n",
      "  20  2.6213062e-01 0.00e+00 4.68e-07  -5.7 7.41e-05    -  1.00e+00 1.00e+00f  1\n",
      "  21  2.6212139e-01 1.11e-16 1.50e-08  -8.6 9.22e-06    -  1.00e+00 1.00e+00h  1\n",
      "  22  2.6212139e-01 0.00e+00 5.71e-05  -9.0 4.47e-03    -  1.00e+00 1.00e+00h  1\n",
      "  23  2.6212139e-01 2.22e-16 4.22e-04  -9.0 1.20e-02    -  1.00e+00 1.00e+00h  1\n",
      "  24  2.6212139e-01 0.00e+00 6.30e-06  -9.0 1.46e-03    -  1.00e+00 1.00e+00h  1\n",
      "  25  2.6212139e-01 1.11e-16 3.07e-09  -9.0 2.98e-05    -  1.00e+00 1.00e+00h  1\n",
      "\n",
      "Number of Iterations....: 25\n",
      "\n",
      "                                   (scaled)                 (unscaled)\n",
      "Objective...............:   2.6212139116220173e-01    2.6212139116220173e-01\n",
      "Dual infeasibility......:   3.0661622333799509e-09    3.0661622333799509e-09\n",
      "Constraint violation....:   1.1102230246251565e-16    1.1102230246251565e-16\n",
      "Variable bound violation:   0.0000000000000000e+00    0.0000000000000000e+00\n",
      "Complementarity.........:   9.0909435096548165e-10    9.0909435096548165e-10\n",
      "Overall NLP error.......:   3.0661622333799509e-09    3.0661622333799509e-09\n",
      "\n",
      "\n",
      "Number of objective function evaluations             = 26\n",
      "Number of objective gradient evaluations             = 26\n",
      "Number of equality constraint evaluations            = 26\n",
      "Number of inequality constraint evaluations          = 26\n",
      "Number of equality constraint Jacobian evaluations   = 26\n",
      "Number of inequality constraint Jacobian evaluations = 26\n",
      "Number of Lagrangian Hessian evaluations             = 25\n",
      "Total seconds in IPOPT                               = 0.333\n",
      "\n",
      "EXIT: Optimal Solution Found.\n",
      "\bSecond Level-Expert  1  ksi=  0.26212139116220173\n",
      "consistency_ratio=  0.058640132251051844\n",
      "Second Level-Expert  2  ksi=  1.2639319364844697\n",
      "consistency_ratio=  0.28275882247974715\n",
      "Second Level-Expert  3  ksi=  1.0505101286735623\n",
      "consistency_ratio=  0.2350134516048238\n",
      "Second Level-Expert  4  ksi=  1.550510171189359\n",
      "consistency_ratio=  0.34687028438240697\n",
      "Second Level-Expert  5  ksi=  0.43844713905232147\n",
      "consistency_ratio=  0.09808660828910995\n",
      "Third Level C2-Expert  1  ksi=  0.16666663492786354\n",
      "consistency_ratio=  0.03728560065500303\n",
      "Third Level C2-Expert  2  ksi=  0.5441176192768006\n",
      "consistency_ratio=  0.12172653675096211\n",
      "Third Level C2-Expert  3  ksi=  0.4999999713188068\n",
      "consistency_ratio=  0.11185681684984493\n",
      "Third Level C2-Expert  4  ksi=  0.4999999403084042\n",
      "consistency_ratio=  0.11185680991239469\n",
      "Third Level C2-Expert  5  ksi=  0.4999999403084085\n",
      "consistency_ratio=  0.11185680991239565\n",
      "Third Level C4-Expert  1  ksi=  0.5505101971528552\n",
      "consistency_ratio=  0.12315664365835688\n",
      "Third Level C4-Expert  2  ksi=  0.2906976364535808\n",
      "consistency_ratio=  0.06503302828939168\n",
      "Third Level C4-Expert  3  ksi=  0.2906976252601985\n",
      "consistency_ratio=  0.06503302578527931\n",
      "Third Level C4-Expert  4  ksi=  0.9999999557262479\n",
      "consistency_ratio=  0.22371363662779595\n",
      "Third Level C4-Expert  5  ksi=  0.28881899392501104\n",
      "consistency_ratio=  0.06461275031879442\n"
     ]
    },
    {
     "data": {
      "text/plain": [
       "'\\nprint(\"ksi= \",Model.ksi())\\nModel.pprint()\\nModel.display()\\n        \\n'"
      ]
     },
     "execution_count": 4,
     "metadata": {},
     "output_type": "execute_result"
    }
   ],
   "source": [
    "inconsistency_index = {2:0.44, 3:1.00, 4:1.63, 5:2.30, 6:3.00, 7:3.73, 8:4.47, 9:5.23}\n",
    "\n",
    "weights_second_level = []\n",
    "for i in range(len(ratings)):\n",
    "    Model, L = apply_model(ratings[i])\n",
    "    # the reason to add such a if condition is that solver is working properly\n",
    "    if i==0:\n",
    "        results = pyopt.SolverFactory(\"ipopt\").solve(Model, tee=True) \n",
    "    else:\n",
    "        results = pyopt.SolverFactory(\"ipopt\").solve(Model, tee=False)\n",
    "        \n",
    "    print(\"Second Level-Expert \", i+1,\" ksi= \",Model.ksi())\n",
    "    print(\"consistency_ratio= \", Model.ksi()/inconsistency_index[8])\n",
    "    weight = dict()\n",
    "    for i in Model.Criteria:\n",
    "        a = []\n",
    "        for j in L:\n",
    "            a.append(j[i].value)\n",
    "        weight.update({i: a})\n",
    "    weights_second_level.append(weight)\n",
    "    \n",
    "weights_third_level_C2 = []\n",
    "for i in range(len(ratings_C2)):\n",
    "    Model, L = apply_model(ratings_C2[i])\n",
    "    results = pyopt.SolverFactory(\"ipopt\").solve(Model, tee=False) # doctest: +SKIP\n",
    "    print(\"Third Level C2-Expert \", i+1,\" ksi= \",Model.ksi())\n",
    "    print(\"consistency_ratio= \", Model.ksi()/inconsistency_index[8])\n",
    "    weight = dict()\n",
    "    for i in Model.Criteria:\n",
    "        a = []\n",
    "        for j in L:\n",
    "            a.append(j[i].value)\n",
    "        weight.update({i: a})\n",
    "    weights_third_level_C2.append(weight)   \n",
    "\n",
    "weights_third_level_C4 = []\n",
    "for i in range(len(ratings_C4)):\n",
    "    Model, L = apply_model(ratings_C4[i])\n",
    "    results = pyopt.SolverFactory(\"ipopt\").solve(Model, tee=False) # doctest: +SKIP\n",
    "    print(\"Third Level C4-Expert \", i+1,\" ksi= \",Model.ksi())\n",
    "    print(\"consistency_ratio= \", Model.ksi()/inconsistency_index[8])\n",
    "    weight = dict()\n",
    "    for i in Model.Criteria:\n",
    "        a = []\n",
    "        for j in L:\n",
    "            a.append(j[i].value)\n",
    "        weight.update({i: a})\n",
    "    weights_third_level_C4.append(weight)\n",
    "     \n",
    "\"\"\"\n",
    "print(\"ksi= \",Model.ksi())\n",
    "Model.pprint()\n",
    "Model.display()\n",
    "        \n",
    "\"\"\""
   ]
  },
  {
   "cell_type": "markdown",
   "metadata": {},
   "source": [
    "## Final Weights"
   ]
  },
  {
   "cell_type": "markdown",
   "metadata": {},
   "source": [
    "We need to find the final weights by averaging center weight values considering all expert opinions. Here there is an additional important step regarding the consistenct ratios of the experts. I have calculated the consistenct ratios and assume that all the rating are applicable. Because of this reason, I have directly calculate the final weights by taking care of all experts."
   ]
  },
  {
   "cell_type": "code",
   "execution_count": 5,
   "metadata": {},
   "outputs": [
    {
     "name": "stdout",
     "output_type": "stream",
     "text": [
      "[0.12951447996617393, 0.21521005295774379, 0.32800715988194257, 0.3246983550864698]\n"
     ]
    }
   ],
   "source": [
    "averaged_weights_second_level = []\n",
    "for j in range(len(weights_second_level[0])):\n",
    "    sum = 0\n",
    "    w = \"C\"+ str(j+1)\n",
    "    w1 = w + \"\\xa0\"\n",
    "    for i in range(len(weights_second_level)):\n",
    "        if i != 1:\n",
    "            sum += weights_second_level[i][w1][1]\n",
    "        else:\n",
    "            sum += weights_second_level[i][w][1]\n",
    "    averaged_weights_second_level.append(sum/len(weights_second_level))\n",
    "print(averaged_weights_second_level)"
   ]
  },
  {
   "cell_type": "code",
   "execution_count": 6,
   "metadata": {},
   "outputs": [
    {
     "name": "stdout",
     "output_type": "stream",
     "text": [
      "[0.24518597357675093, 0.32867569151374676, 0.4254448545249292]\n"
     ]
    }
   ],
   "source": [
    "averaged_weights_third_level_C2 = []\n",
    "for j in range(len(weights_third_level_C2[0])):\n",
    "    sum = 0\n",
    "    w = \"C2-\"+ str(j+1)\n",
    "    for i in range(len(weights_third_level_C2)):\n",
    "        sum += weights_third_level_C2[i][w][1]\n",
    "    averaged_weights_third_level_C2.append(sum/len(weights_third_level_C2))\n",
    "print(averaged_weights_third_level_C2)\n"
   ]
  },
  {
   "cell_type": "code",
   "execution_count": 7,
   "metadata": {},
   "outputs": [
    {
     "name": "stdout",
     "output_type": "stream",
     "text": [
      "[0.3493015712773431, 0.24091852979784587, 0.2608982699672259, 0.1435581488983717]\n"
     ]
    }
   ],
   "source": [
    "averaged_weights_third_level_C4 = []\n",
    "for j in range(len(weights_third_level_C4[0])):\n",
    "    sum = 0\n",
    "    w = \"C4-\"+ str(j+1)\n",
    "    for i in range(len(weights_third_level_C4)):\n",
    "        sum += weights_third_level_C4[i][w][1]\n",
    "    averaged_weights_third_level_C4.append(sum/len(weights_third_level_C4))\n",
    "print(averaged_weights_third_level_C4)"
   ]
  },
  {
   "cell_type": "code",
   "execution_count": 8,
   "metadata": {},
   "outputs": [
    {
     "name": "stdout",
     "output_type": "stream",
     "text": [
      "C1:  0.12951447996617393\n",
      "C2_1:  0.05276648635794853\n",
      "C2_2:  0.0707343129765965\n",
      "C2_3:  0.09156000967290961\n",
      "C3:  0.32800715988194257\n",
      "C4_1:  0.11341764562287261\n",
      "C4_2:  0.07822585033521122\n",
      "C4_3:  0.08471323910326399\n",
      "C4_4:  0.046613094806559806\n"
     ]
    }
   ],
   "source": [
    "## final weights \n",
    "C1 = averaged_weights_second_level[0]\n",
    "C2_1 = averaged_weights_second_level[1]*averaged_weights_third_level_C2[0]\n",
    "C2_2 = averaged_weights_second_level[1]*averaged_weights_third_level_C2[1]\n",
    "C2_3 = averaged_weights_second_level[1]*averaged_weights_third_level_C2[2]\n",
    "C3 = averaged_weights_second_level[2]\n",
    "C4_1 = averaged_weights_second_level[3]*averaged_weights_third_level_C4[0]\n",
    "C4_2 = averaged_weights_second_level[3]*averaged_weights_third_level_C4[1]\n",
    "C4_3 = averaged_weights_second_level[3]*averaged_weights_third_level_C4[2]\n",
    "C4_4 = averaged_weights_second_level[3]*averaged_weights_third_level_C4[3]\n",
    "print(\"C1: \", C1)\n",
    "print(\"C2_1: \", C2_1)\n",
    "print(\"C2_2: \", C2_2)\n",
    "print(\"C2_3: \", C2_3)\n",
    "print(\"C3: \", C3)\n",
    "print(\"C4_1: \", C4_1)\n",
    "print(\"C4_2: \", C4_2)\n",
    "print(\"C4_3: \", C4_3)\n",
    "print(\"C4_4: \", C4_4)"
   ]
  },
  {
   "cell_type": "markdown",
   "metadata": {},
   "source": [
    "# Problem 2 (A)"
   ]
  },
  {
   "cell_type": "markdown",
   "metadata": {},
   "source": [
    "The most commonly used fuzzy inference technique is Mandani method. The Mandani-style fuzzy inference process is performed in four steps.\n",
    "\n",
    "- fuzzification of the input variables\n",
    "\n",
    "- rule evaluation (inference)\n",
    "\n",
    "- aggregation of the rule outputs (composition)\n",
    "\n",
    "- defuzzification"
   ]
  },
  {
   "cell_type": "markdown",
   "metadata": {},
   "source": [
    "### Variable specification & fuzzification of the input variables"
   ]
  },
  {
   "cell_type": "code",
   "execution_count": 9,
   "metadata": {},
   "outputs": [
    {
     "data": {
      "image/png": "[encoded data removed]",
      "text/plain": [
       "<Figure size 720x180 with 1 Axes>"
      ]
     },
     "metadata": {
      "needs_background": "light"
     },
     "output_type": "display_data"
    },
    {
     "data": {
      "image/png": "[encoded data removed]",
      "text/plain": [
       "<Figure size 720x180 with 1 Axes>"
      ]
     },
     "metadata": {
      "needs_background": "light"
     },
     "output_type": "display_data"
    },
    {
     "data": {
      "image/png": "[encoded data removed]",
      "text/plain": [
       "<Figure size 720x180 with 1 Axes>"
      ]
     },
     "metadata": {
      "needs_background": "light"
     },
     "output_type": "display_data"
    }
   ],
   "source": [
    "variables = {\n",
    "    \"mass\": FuzzyVariable(\n",
    "        universe_range=(0.1, 0.8),\n",
    "        terms={\n",
    "            \"Small\": [(0.1, 0), (0.3, 1), (0.6, 0)],\n",
    "            \"Large\": [(0.4, 0), (0.5, 1), (0.8, 0)],\n",
    "        },\n",
    "    ),\n",
    "    \"velocity\": FuzzyVariable(\n",
    "        universe_range=(35, 80),\n",
    "        terms={\n",
    "            \"High\": [(50, 0), (60, 1), (80, 0)],\n",
    "            \"Medium\": [(35, 0), (65, 1), (65, 0)],\n",
    "        },\n",
    "    ),\n",
    "    \"energy\": FuzzyVariable(\n",
    "        universe_range=(350, 500),\n",
    "        terms={\n",
    "            \"Medium\": [(350, 0), (400, 1), (450, 0)],\n",
    "            \"High\": [(400, 0), (450, 1), (500, 0)],\n",
    "        },\n",
    "    ),\n",
    "}\n",
    "\n",
    "plt.figure(figsize=(10, 2.5))\n",
    "variables[\"mass\"].plot()\n",
    "plt.figure(figsize=(10, 2.5))\n",
    "variables[\"velocity\"].plot()\n",
    "plt.figure(figsize=(10, 2.5))\n",
    "variables[\"energy\"].plot()\n"
   ]
  },
  {
   "cell_type": "markdown",
   "metadata": {},
   "source": [
    "One can see the membership functions above for inputs which are mass, velocity and output which is energy"
   ]
  },
  {
   "cell_type": "markdown",
   "metadata": {},
   "source": [
    "### Rule Specification"
   ]
  },
  {
   "cell_type": "code",
   "execution_count": 10,
   "metadata": {},
   "outputs": [
    {
     "name": "stdout",
     "output_type": "stream",
     "text": [
      "IF  mass IS Small\n",
      "    AND velocity IS High\n",
      "THEN\n",
      "    energy IS Medium\n",
      "CF = 1.00\n",
      "Threshold-CF = 0.00\n",
      "\n",
      "\n",
      "IF  mass IS Large\n",
      "    OR velocity IS Medium\n",
      "THEN\n",
      "    energy IS High\n",
      "CF = 1.00\n",
      "Threshold-CF = 0.00\n",
      "\n"
     ]
    }
   ],
   "source": [
    "rules = [\n",
    "    FuzzyRule(\n",
    "        premise=[\n",
    "            (\"mass\", \"Small\"),\n",
    "            (\"AND\", \"velocity\", \"High\"),\n",
    "        ],\n",
    "        consequence=[(\"energy\", \"Medium\")],\n",
    "    ),\n",
    "    FuzzyRule(\n",
    "        premise=[\n",
    "            (\"mass\", \"Large\"),\n",
    "            (\"OR\", \"velocity\", \"Medium\"),\n",
    "        ],\n",
    "        consequence=[(\"energy\", \"High\")],\n",
    "    )\n",
    "]\n",
    "\n",
    "print(rules[0])\n",
    "print()\n",
    "print(rules[1])"
   ]
  },
  {
   "cell_type": "markdown",
   "metadata": {},
   "source": [
    "### Aggregation of the rule outputs & Defuzzification"
   ]
  },
  {
   "cell_type": "code",
   "execution_count": 11,
   "metadata": {},
   "outputs": [
    {
     "data": {
      "image/png": "[encoded data removed]",
      "text/plain": [
       "<Figure size 720x432 with 7 Axes>"
      ]
     },
     "metadata": {
      "needs_background": "light"
     },
     "output_type": "display_data"
    }
   ],
   "source": [
    "model = DecompositionalInference(\n",
    "    and_operator=\"min\",\n",
    "    or_operator=\"max\",\n",
    "    implication_operator=\"Rc\",\n",
    "    composition_operator=\"max-min\",\n",
    "    production_link=\"max\",\n",
    "    defuzzification_operator=\"cog\",\n",
    ")\n",
    "\n",
    "model(\n",
    "    variables=variables,\n",
    "    rules=rules,\n",
    "    mass=0.35,\n",
    "    velocity=55,\n",
    ")\n",
    "\n",
    "plt.figure(figsize=(10, 6))\n",
    "model.plot(\n",
    "    variables=variables,\n",
    "    rules=rules,\n",
    "    mass=0.35,\n",
    "    velocity=55,\n",
    ")"
   ]
  },
  {
   "cell_type": "markdown",
   "metadata": {},
   "source": [
    "# Problem 2 (B)"
   ]
  },
  {
   "cell_type": "markdown",
   "metadata": {},
   "source": [
    "In this problem type we only have one input variable and one output variable"
   ]
  },
  {
   "cell_type": "markdown",
   "metadata": {},
   "source": [
    "### Variable specification & fuzzification of the input variables"
   ]
  },
  {
   "cell_type": "code",
   "execution_count": 12,
   "metadata": {},
   "outputs": [
    {
     "data": {
      "image/png": "[encoded data removed]",
      "text/plain": [
       "<Figure size 720x180 with 1 Axes>"
      ]
     },
     "metadata": {
      "needs_background": "light"
     },
     "output_type": "display_data"
    },
    {
     "data": {
      "image/png": "[encoded data removed]",
      "text/plain": [
       "<Figure size 720x180 with 1 Axes>"
      ]
     },
     "metadata": {
      "needs_background": "light"
     },
     "output_type": "display_data"
    }
   ],
   "source": [
    "\n",
    "mf = MembershipFunction(n_points=100)\n",
    "mf_2 = MembershipFunction(n_points=100)\n",
    "\n",
    "variables_2 = {\n",
    "    \"a_input\": FuzzyVariable(\n",
    "        universe_range=(0, 10),\n",
    "        terms={\n",
    "            \"low\": [ (2, 0), (5, 1), (7, 0)],\n",
    "            \"high\": [(5, 0), (7, 1), (9, 0)],\n",
    "        },\n",
    "    ),\n",
    "    \"b_output\": FuzzyVariable(\n",
    "        universe_range=(0, 10),\n",
    "        terms={\n",
    "            \"poor\": mf(('gaussmf', 4, 1)),\n",
    "            \"good\": mf_2(('gaussmf', 7, 1)),\n",
    "        },\n",
    "    ),\n",
    "}\n",
    "\n",
    "plt.figure(figsize=(10, 2.5))\n",
    "variables_2[\"a_input\"].plot()\n",
    "plt.figure(figsize=(10, 2.5))\n",
    "variables_2[\"b_output\"].plot()"
   ]
  },
  {
   "cell_type": "markdown",
   "metadata": {},
   "source": [
    "To visualize a gaussian membership function, we need some sample from this distribution. In this case, we used 100 points to visualize the functions. One can see the results above."
   ]
  },
  {
   "cell_type": "markdown",
   "metadata": {},
   "source": [
    "### Rule Specification"
   ]
  },
  {
   "cell_type": "code",
   "execution_count": 13,
   "metadata": {},
   "outputs": [
    {
     "name": "stdout",
     "output_type": "stream",
     "text": [
      "IF  a_input IS low\n",
      "THEN\n",
      "    b_output IS poor\n",
      "CF = 1.00\n",
      "Threshold-CF = 0.00\n",
      "\n",
      "\n",
      "IF  a_input IS high\n",
      "THEN\n",
      "    b_output IS good\n",
      "CF = 1.00\n",
      "Threshold-CF = 0.00\n",
      "\n"
     ]
    }
   ],
   "source": [
    "rules = [\n",
    "    FuzzyRule(\n",
    "        premise=[\n",
    "            (\"a_input\", \"low\"),\n",
    "        ],\n",
    "        consequence=[(\"b_output\", \"poor\")],\n",
    "    ),\n",
    "    FuzzyRule(\n",
    "        premise=[\n",
    "            (\"a_input\", \"high\"),\n",
    "        ],\n",
    "        consequence=[(\"b_output\", \"good\")],\n",
    "    )\n",
    "]\n",
    "\n",
    "print(rules[0])\n",
    "print()\n",
    "print(rules[1])"
   ]
  },
  {
   "cell_type": "markdown",
   "metadata": {},
   "source": [
    "### Aggregation of the rule outputs & Defuzzification"
   ]
  },
  {
   "cell_type": "code",
   "execution_count": 14,
   "metadata": {},
   "outputs": [
    {
     "data": {
      "image/png": "[encoded data removed]",
      "text/plain": [
       "<Figure size 720x432 with 5 Axes>"
      ]
     },
     "metadata": {
      "needs_background": "light"
     },
     "output_type": "display_data"
    }
   ],
   "source": [
    "model_2 = DecompositionalInference(\n",
    "    and_operator=\"min\",\n",
    "    or_operator=\"max\",\n",
    "    implication_operator=\"Rc\",\n",
    "    composition_operator=\"max-min\",\n",
    "    production_link=\"max\",\n",
    "    defuzzification_operator=\"cog\",\n",
    ")\n",
    "\n",
    "#mf_3 = MembershipFunction(n_points=10)\n",
    "\n",
    "plt.figure(figsize=(10, 6))\n",
    "model_2.plot(\n",
    "    variables=variables_2,\n",
    "    rules=rules,\n",
    "    #a_input = [(6, 0), (7, 0.3), (8, 0.5), (9, 0.7), (10, 0.9)],\n",
    "    #a_input = mf_3(('gaussmf', 4, 1)),\n",
    "    #a_input = [(5, 0), (6, 0.2), (7, 0)],\n",
    "    a_input = 7,\n",
    ")"
   ]
  },
  {
   "cell_type": "markdown",
   "metadata": {},
   "source": [
    "# Problem 3"
   ]
  },
  {
   "cell_type": "markdown",
   "metadata": {},
   "source": [
    "In order to solve this problem, we need to draw sample from log normal distributions: Below you can see the\n",
    "procedure for this aim."
   ]
  },
  {
   "cell_type": "code",
   "execution_count": 15,
   "metadata": {},
   "outputs": [],
   "source": [
    "t_1 = np.random.lognormal(2.8, 0.2, 100)\n",
    "t_2 = np.random.lognormal(1.5, 0.06, 100)"
   ]
  },
  {
   "cell_type": "markdown",
   "metadata": {},
   "source": [
    "In the contraints part of the mathematical model, the 4th and 5th constraints are equality constraints\n",
    "and the decision variables x_4 and x_5 are not related with the other decision variables which are x_1, x_2, and x_3. We can change the x_4 and x_5 values in the objective function by using the equalities in the 4th and 5th constraints. After that we can remove these constraints from the mathematical model since there is no relation with between the x_4, x_5 and x_1, x_2, and x_3.\n",
    "\n",
    "The proposed mathematical model would be like:\n",
    "\n",
    "min  4x_1 - 3x_2 + x_3 + 9(t_1 - 2x_1) - 2.25(2.5t_2 + 3x_1) + 2t_2\n",
    "\n",
    "s.t. x_1 + x_3 >= 12\n",
    "\n",
    "     x_2 + 1.2x_3 <= 22\n",
    "     \n",
    "     x_1 + x_2  <= 10\n",
    "     \n",
    "     x_1 + x_2 + x_3 <= 14\n",
    "     \n",
    "     defined sets for the decision variables would be the same with the original formulation\n"
   ]
  },
  {
   "cell_type": "code",
   "execution_count": 16,
   "metadata": {},
   "outputs": [],
   "source": [
    "x_1_set = [2.5, 6, 10, 12, 14, 15]\n",
    "x_2_set = [-2.5, -5.2, -2, 5.5, 10]\n",
    "x_3_set = [0, 1]"
   ]
  },
  {
   "cell_type": "code",
   "execution_count": 18,
   "metadata": {},
   "outputs": [],
   "source": [
    "def obj_func(x_1, x_2, x_3, t_1, t_2):\n",
    "    return 4*x_1 - 3*x_2 + x_3 + 9*(t_1 - 2*x_1) - 2.25*(2.5*t_2 + 3*x_1) + 2*t_2"
   ]
  },
  {
   "cell_type": "code",
   "execution_count": 19,
   "metadata": {},
   "outputs": [
    {
     "name": "stdout",
     "output_type": "stream",
     "text": [
      "the objective value of the mathematical model is  -166.5085942052793\n",
      "the optimal values of the decision variables are  [15, -5.2, 0]\n"
     ]
    }
   ],
   "source": [
    "min = 99999999\n",
    "optimal_dec_variables = []\n",
    "for x_1 in x_1_set:\n",
    "    for x_2 in x_2_set:\n",
    "        for x_3 in x_3_set:\n",
    "            if x_1 + x_3 >= 12:\n",
    "                if x_2 + 1.2*x_3 <= 22:\n",
    "                    if x_1 + x_2 <= 10:\n",
    "                        if x_1 + x_2 + x_3 <= 14:\n",
    "                            #print([x_1, x_2, x_3])\n",
    "                            results = [obj_func(x_1, x_2, x_3, tt_1, tt_2) for tt_1 in t_1 for tt_2 in t_2]\n",
    "                            if np.sum(results)/len(results) < min:\n",
    "                                min = np.sum(results)/len(results)\n",
    "                                optimal_dec_variables = [x_1, x_2, x_3]\n",
    "                            \n",
    "                                \n",
    "print(\"the objective value of the mathematical model is \", min)\n",
    "print(\"the optimal values of the decision variables are \", optimal_dec_variables)"
   ]
  },
  {
   "cell_type": "markdown",
   "metadata": {},
   "source": [
    "# Problem 4"
   ]
  },
  {
   "cell_type": "markdown",
   "metadata": {},
   "source": [
    "In this problem, objective function and all the constraints are fuzzy. By using the Werner's approach, we need to solve four lp problem in total.\n",
    "\n",
    "1) max z_0 = 25x+20y subject to 20x+12y <= 1800, 1/15x+1/15y <= 8, x>=0, y>=0\n",
    "\n",
    "2) max z_1 = 25x+20y subject to 20x+12y <= 1900, 1/15x+1/15y <= 28, x>=0, y>=0\n",
    "\n",
    "3) max a subject to 25x+20y>=z_1-(z_1-z_0)(1-a), 20x+12y<=1800+100(1-a), 1/15x+1/15y<=8+20(1-a), x>=0, y>=0, a>=0\n",
    "\n",
    "4) max 25x+20y subject to 20x+12y<=1800+100(1-a), 1/15x+1/15y<=8+20(1-a), x>=0, y>=0 "
   ]
  },
  {
   "cell_type": "markdown",
   "metadata": {},
   "source": [
    "### 1) LP(b)"
   ]
  },
  {
   "cell_type": "code",
   "execution_count": 20,
   "metadata": {},
   "outputs": [
    {
     "name": "stdout",
     "output_type": "stream",
     "text": [
      "the optimal z_0 value is  2624.9992500003755\n"
     ]
    }
   ],
   "source": [
    "obj = [-25,-20] #These are coefficients of our objective function. We just needed to multiply with -1 for maximization\n",
    "lhs = [[20,12],[0.0666667, 0.0666667]] #LHS Inequalities. here 0.0666667 equals 1/15. check the question\n",
    "rhs = [1800, 8]\n",
    "bnd = [(0,float('inf')),(0,float('inf'))] #This is boundary of our decision variables used because positive\n",
    " \n",
    "\n",
    "LP_b = linprog(c = obj,\n",
    "                       A_ub = lhs,\n",
    "                       b_ub = rhs,\n",
    "                       bounds = bnd,\n",
    "                       method = 'highs')\n",
    "print(\"the optimal z_0 value is \",(LP_b.fun)*(-1))"
   ]
  },
  {
   "cell_type": "markdown",
   "metadata": {},
   "source": [
    "### 2) LP(b+p)"
   ]
  },
  {
   "cell_type": "code",
   "execution_count": 21,
   "metadata": {},
   "outputs": [
    {
     "name": "stdout",
     "output_type": "stream",
     "text": [
      "the optimal z_1 value is  3166.666666666667\n",
      "z_1 - z_0 is  541.6674166662915\n"
     ]
    }
   ],
   "source": [
    "obj = [-25,-20] #These are coefficients of our objective function. We just multiplied with -1 for maximization\n",
    "lhs = [[20,12],[0.0666667, 0.0666667]] #LHS Inequalities. here 0.0666667 equals 1/15. check the question\n",
    "rhs = [1900, 28]\n",
    "bnd = [(0,float('inf')),(0,float('inf'))] #This is boundary of our decision variables used because positive\n",
    " \n",
    "\n",
    "LP_bp = linprog(c = obj,\n",
    "                A_ub = lhs,\n",
    "                       b_ub = rhs,\n",
    "                       bounds = bnd,\n",
    "                       method = 'highs')\n",
    "print(\"the optimal z_1 value is \",(LP_bp.fun)*(-1))\n",
    "print(\"z_1 - z_0 is \",(LP_bp.fun)*(-1)-(LP_b.fun)*(-1))\n"
   ]
  },
  {
   "cell_type": "markdown",
   "metadata": {},
   "source": [
    "### 3) max LP alpha"
   ]
  },
  {
   "cell_type": "code",
   "execution_count": 22,
   "metadata": {},
   "outputs": [
    {
     "name": "stdout",
     "output_type": "stream",
     "text": [
      "the optimal alpha value is  0.7647051781875963\n",
      "(1-alpha) value is  0.2352948218124037\n"
     ]
    }
   ],
   "source": [
    "obj = [0,0,-1]  # respectively for x,y, and a\n",
    "lhs = [[-25,-20,541.667417],[20,12,100],[0.0666667, 0.0666667,20]] #LHS Inequalities. here 0.0666667 equals 1/15. check the question\n",
    "rhs = [-2624.999925, 1900, 28]\n",
    "bnd = [(0,float('inf')),(0,float('inf')),(0,float('inf'))] #This is boundary of our decision variables used because positive\n",
    "\n",
    "# in this problem, I have played with the first constraint some in order to have an appropriate format for the \n",
    "# function below (linprog)\n",
    "\n",
    "LP_alpha = linprog(c = obj,\n",
    "            A_ub = lhs,\n",
    "            b_ub = rhs,\n",
    "            bounds = bnd,\n",
    "            method = 'highs')\n",
    "print(\"the optimal alpha value is \",(LP_alpha.fun)*(-1))\n",
    "print(\"(1-alpha) value is \",1-(LP_alpha.fun)*(-1))"
   ]
  },
  {
   "cell_type": "markdown",
   "metadata": {},
   "source": [
    "### 4) Crisp Parametric LP"
   ]
  },
  {
   "cell_type": "code",
   "execution_count": 23,
   "metadata": {},
   "outputs": [
    {
     "name": "stdout",
     "output_type": "stream",
     "text": [
      "the optimal z_0 value is  3039.2158036354\n",
      "the optimal x value is  0.0\n",
      "the optimal y value is  151.96079018177\n"
     ]
    }
   ],
   "source": [
    "obj = [-25,-20] #These are coefficients of our objective function. We just needed to multiply with -1 for maximization\n",
    "lhs = [[20,12],[0.0666667, 0.0666667]] #LHS Inequalities. here 0.0666667 equals 1/15. check the question\n",
    "rhs = [1800+(1-(LP_alpha.fun)*(-1))*100, 8+(1-(LP_alpha.fun)*(-1))*20]\n",
    "bnd = [(0,float('inf')),(0,float('inf'))] #This is boundary of our decision variables used because positive\n",
    " \n",
    "\n",
    "LP_crisp = linprog(c = obj,\n",
    "            A_ub = lhs,\n",
    "            b_ub = rhs,\n",
    "            bounds = bnd,\n",
    "            method = 'highs')\n",
    "\n",
    "print(\"the optimal z_0 value is \",(LP_crisp.fun)*(-1))\n",
    "print(\"the optimal x value is \",(LP_crisp.x[0]))\n",
    "print(\"the optimal y value is \",(LP_crisp.x[1]))"
   ]
  }
 ],
 "metadata": {
  "kernelspec": {
   "display_name": "Python 3 (ipykernel)",
   "language": "python",
   "name": "python3"
  },
  "language_info": {
   "codemirror_mode": {
    "name": "ipython",
    "version": 3
   },
   "file_extension": ".py",
   "mimetype": "text/x-python",
   "name": "python",
   "nbconvert_exporter": "python",
   "pygments_lexer": "ipython3",
   "version": "3.8.18"
  }
 },
 "nbformat": 4,
 "nbformat_minor": 4
}
